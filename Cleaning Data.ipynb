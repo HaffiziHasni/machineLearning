{
 "cells": [
  {
   "cell_type": "code",
   "execution_count": 50,
   "metadata": {},
   "outputs": [
    {
     "name": "stdout",
     "output_type": "stream",
     "text": [
      "                 Definition  is_misogyny\n",
      "0     Ur gonna die... queer          0.0\n",
      "1     Valuptuous man boobs.          0.0\n",
      "2     Variation of brother.          0.0\n",
      "3     Very impressive penis          0.0\n",
      "4     What I call my penis.          0.0\n",
      "...                     ...          ...\n",
      "2281  A women who is \"easy\"          1.0\n",
      "2282  Any hot/ sexy chicks.          1.0\n",
      "2283  Any vaginal secretion          1.0\n",
      "2284  Person who slaps hoes          1.0\n",
      "2285  That hoe out there!!!          1.0\n",
      "\n",
      "[2286 rows x 2 columns]\n"
     ]
    }
   ],
   "source": [
    "#performing basic cleaning\n",
    "import pandas as pd\n",
    "import numpy as np\n",
    "import matplotlib.pyplot as plt\n",
    "from wordcloud import WordCloud\n",
    "#checking if imported correctly\n",
    "df=pd.read_csv('ManualTag_Misogyny.csv',encoding='latin-1')\n",
    "print(df)"
   ]
  },
  {
   "cell_type": "code",
   "execution_count": 39,
   "metadata": {},
   "outputs": [
    {
     "data": {
      "text/plain": [
       "0"
      ]
     },
     "execution_count": 39,
     "metadata": {},
     "output_type": "execute_result"
    }
   ],
   "source": [
    "#checking if there is a null value\n",
    "np.count_nonzero(df.isnull()) "
   ]
  },
  {
   "cell_type": "code",
   "execution_count": 40,
   "metadata": {},
   "outputs": [
    {
     "data": {
      "text/html": [
       "<div>\n",
       "<style scoped>\n",
       "    .dataframe tbody tr th:only-of-type {\n",
       "        vertical-align: middle;\n",
       "    }\n",
       "\n",
       "    .dataframe tbody tr th {\n",
       "        vertical-align: top;\n",
       "    }\n",
       "\n",
       "    .dataframe thead th {\n",
       "        text-align: right;\n",
       "    }\n",
       "</style>\n",
       "<table border=\"1\" class=\"dataframe\">\n",
       "  <thead>\n",
       "    <tr style=\"text-align: right;\">\n",
       "      <th></th>\n",
       "      <th>Definition</th>\n",
       "      <th>is_misogyny</th>\n",
       "    </tr>\n",
       "  </thead>\n",
       "  <tbody>\n",
       "  </tbody>\n",
       "</table>\n",
       "</div>"
      ],
      "text/plain": [
       "Empty DataFrame\n",
       "Columns: [Definition, is_misogyny]\n",
       "Index: []"
      ]
     },
     "execution_count": 40,
     "metadata": {},
     "output_type": "execute_result"
    }
   ],
   "source": [
    "#locating where null value is\n",
    "df[df.isnull().any(axis=1)]"
   ]
  },
  {
   "cell_type": "code",
   "execution_count": 38,
   "metadata": {},
   "outputs": [
    {
     "data": {
      "text/html": [
       "<div>\n",
       "<style scoped>\n",
       "    .dataframe tbody tr th:only-of-type {\n",
       "        vertical-align: middle;\n",
       "    }\n",
       "\n",
       "    .dataframe tbody tr th {\n",
       "        vertical-align: top;\n",
       "    }\n",
       "\n",
       "    .dataframe thead th {\n",
       "        text-align: right;\n",
       "    }\n",
       "</style>\n",
       "<table border=\"1\" class=\"dataframe\">\n",
       "  <thead>\n",
       "    <tr style=\"text-align: right;\">\n",
       "      <th></th>\n",
       "      <th>is_misogyny</th>\n",
       "    </tr>\n",
       "  </thead>\n",
       "  <tbody>\n",
       "    <tr>\n",
       "      <td>1251</td>\n",
       "      <td>0.0</td>\n",
       "    </tr>\n",
       "  </tbody>\n",
       "</table>\n",
       "</div>"
      ],
      "text/plain": [
       "      is_misogyny\n",
       "1251          0.0"
      ]
     },
     "execution_count": 38,
     "metadata": {},
     "output_type": "execute_result"
    }
   ],
   "source": [
    "#checked if the statement is misogynistic, it's not so changed value to 0\n",
    "df.iloc[[1251],[1]]=0\n",
    "df.iloc[[1251],[1]]\n",
    "\n"
   ]
  },
  {
   "cell_type": "code",
   "execution_count": 41,
   "metadata": {},
   "outputs": [
    {
     "data": {
      "text/plain": [
       "1034"
      ]
     },
     "execution_count": 41,
     "metadata": {},
     "output_type": "execute_result"
    }
   ],
   "source": [
    "df.loc[df.is_misogyny==1,\"is_misogyny\"].count()"
   ]
  },
  {
   "cell_type": "code",
   "execution_count": 48,
   "metadata": {},
   "outputs": [
    {
     "name": "stdout",
     "output_type": "stream",
     "text": [
      "                 Definition  is_misogyny     cleaned_definition\n",
      "0     Ur gonna die... queer          0.0     ur gonna die queer\n",
      "1     Valuptuous man boobs.          0.0   valuptuous man boobs\n",
      "2     Variation of brother.          0.0   variation of brother\n",
      "3     Very impressive penis          0.0  very impressive penis\n",
      "4     What I call my penis.          0.0   what i call my penis\n",
      "...                     ...          ...                    ...\n",
      "2281  A women who is \"easy\"          1.0    a women who is easy\n",
      "2282  Any hot/ sexy chicks.          1.0    any hot sexy chicks\n",
      "2283  Any vaginal secretion          1.0  any vaginal secretion\n",
      "2284  Person who slaps hoes          1.0  person who slaps hoes\n",
      "2285  That hoe out there!!!          1.0     that hoe out there\n",
      "\n",
      "[2286 rows x 3 columns]\n"
     ]
    }
   ],
   "source": [
    "#cleaning definition, remove all punctuations\n",
    "df['cleaned_definition'] = df['Definition'].str.replace(r'[^\\w\\s]+', '')\n",
    "df['cleaned_definition']=df['cleaned_definition'].str.lower()\n",
    "print(df)"
   ]
  },
  {
   "cell_type": "code",
   "execution_count": 49,
   "metadata": {},
   "outputs": [],
   "source": [
    "df.to_csv('new.csv', index=False, encoding='utf-8')"
   ]
  },
  {
   "cell_type": "code",
   "execution_count": null,
   "metadata": {},
   "outputs": [],
   "source": []
  }
 ],
 "metadata": {
  "kernelspec": {
   "display_name": "Python 3",
   "language": "python",
   "name": "python3"
  },
  "language_info": {
   "codemirror_mode": {
    "name": "ipython",
    "version": 3
   },
   "file_extension": ".py",
   "mimetype": "text/x-python",
   "name": "python",
   "nbconvert_exporter": "python",
   "pygments_lexer": "ipython3",
   "version": "3.7.4"
  }
 },
 "nbformat": 4,
 "nbformat_minor": 2
}
