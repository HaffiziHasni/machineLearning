{
 "cells": [
  {
   "cell_type": "code",
   "execution_count": 232,
   "metadata": {},
   "outputs": [],
   "source": [
    "import pandas as pd\n",
    "import matplotlib.pyplot as plt\n",
    "from wordcloud import WordCloud, STOPWORDS\n",
    "from sklearn.feature_extraction.text import TfidfVectorizer\n",
    "import scipy.sparse\n",
    "from sklearn.model_selection import train_test_split\n",
    "from sklearn.dummy import DummyClassifier\n",
    "from sklearn.linear_model import LogisticRegression\n",
    "from sklearn.tree import DecisionTreeClassifier\n",
    "from sklearn.ensemble import RandomForestClassifier\n",
    "from sklearn.metrics import f1_score\n",
    "from sklearn.metrics import confusion_matrix\n",
    "from sklearn.metrics import accuracy_score\n",
    "\n",
    "\n",
    "\n",
    "\n",
    "df=pd.read_csv('new.csv',encoding='latin-1')\n"
   ]
  },
  {
   "cell_type": "code",
   "execution_count": 77,
   "metadata": {},
   "outputs": [],
   "source": [
    "#cleaning stop words and put into new column\n",
    "df['cleaned_definition_nostop'] = df['cleaned_definition'].apply(lambda x: ' '.join([item for item in x.split() if item not in STOPWORDS]))\n",
    "\n",
    "y=df['cleaned_definition_nostop']\n",
    "#need to put into a variable to be transformed"
   ]
  },
  {
   "cell_type": "code",
   "execution_count": 94,
   "metadata": {},
   "outputs": [],
   "source": []
  },
  {
   "cell_type": "code",
   "execution_count": 284,
   "metadata": {},
   "outputs": [],
   "source": [
    "v= TfidfVectorizer(use_idf=True)\n",
    "x=v.fit_transform(y)\n",
    "#getting feature names\n",
    "tokens=v.get_feature_names()\n",
    "#TD-IF vectorizer\n",
    "df_s=pd.DataFrame(data=x.toarray(),index=y, columns=tokens)"
   ]
  },
  {
   "cell_type": "code",
   "execution_count": 106,
   "metadata": {},
   "outputs": [],
   "source": [
    "#train,test=train_test_split(df_s, test_size=0.3)"
   ]
  },
  {
   "cell_type": "code",
   "execution_count": 289,
   "metadata": {},
   "outputs": [
    {
     "data": {
      "text/plain": [
       "(1828, 16307)"
      ]
     },
     "execution_count": 289,
     "metadata": {},
     "output_type": "execute_result"
    }
   ],
   "source": [
    "#creating variables where independentvar is the x and dependent var is the y\n",
    "independentVar=df_s\n",
    "dependentVar=df['is_misogyny']\n",
    "#move directly to model training, if we were to convert tfidf to csv now, it'll take long \n",
    "#splitting data into training and testing set\n",
    "x_train,x_test,y_train,y_test=train_test_split(independentVar,dependentVar, test_size=0.2)\n"
   ]
  },
  {
   "cell_type": "code",
   "execution_count": 126,
   "metadata": {},
   "outputs": [
    {
     "name": "stdout",
     "output_type": "stream",
     "text": [
      "0.5218340611353712\n"
     ]
    }
   ],
   "source": [
    "#training the dummyclassifier model\n",
    "toPredict=1\n",
    "dummy=DummyClassifier(strategy=\"most_frequent\", constant=toPredict)\n",
    "dummy.fit(x_train,y_train)\n",
    "f1_score=dummy.score(x_test,y_test)\n",
    "print(f1_score)"
   ]
  },
  {
   "cell_type": "code",
   "execution_count": 234,
   "metadata": {},
   "outputs": [
    {
     "name": "stdout",
     "output_type": "stream",
     "text": [
      "0.9989059080962801\n",
      "0.8668122270742358\n"
     ]
    }
   ],
   "source": [
    "model=DecisionTreeClassifier(criterion=\"entropy\", max_features=1250) #select algo, can change, select the best one\n",
    "model.fit(x_train, y_train) #fitting model to data\n",
    "#checking model performance on training data\n",
    "predictions = model.predict(x_train)\n",
    "print(accuracy_score(y_train, predictions))\n",
    "# Evaluate the model on  test data\n",
    "predictions = model.predict(x_test)\n",
    "predictions\n",
    "print(accuracy_score(y_test, predictions))"
   ]
  },
  {
   "cell_type": "code",
   "execution_count": 305,
   "metadata": {},
   "outputs": [
    {
     "name": "stderr",
     "output_type": "stream",
     "text": [
      "C:\\ProgramData\\Anaconda3\\lib\\site-packages\\sklearn\\ensemble\\forest.py:245: FutureWarning: The default value of n_estimators will change from 10 in version 0.20 to 100 in 0.22.\n",
      "  \"10 in version 0.20 to 100 in 0.22.\", FutureWarning)\n"
     ]
    },
    {
     "name": "stdout",
     "output_type": "stream",
     "text": [
      "0.986870897155361\n",
      "0.87117903930131\n"
     ]
    }
   ],
   "source": [
    "model2=RandomForestClassifier(criterion=\"entropy\", max_features=1250) #select algo, can change, select the best one\n",
    "model2.fit(x_train, y_train) #fitting model to data\n",
    "#checking model performance on training data\n",
    "predictions = model2.predict(x_train)\n",
    "print(accuracy_score(y_train, predictions))\n",
    "predictions = model2.predict(x_test)\n",
    "print(accuracy_score(y_test, predictions))\n"
   ]
  },
  {
   "cell_type": "code",
   "execution_count": 309,
   "metadata": {},
   "outputs": [
    {
     "name": "stdout",
     "output_type": "stream",
     "text": [
      "                              Definition\n",
      "0            A hot vagina dripping whore\n",
      "1            A White man who sells shoes\n",
      "2  A big computer which can compute fast\n",
      "3              A dick near a gaping cunt\n"
     ]
    }
   ],
   "source": [
    "datanew=pd.read_csv('testdata.csv',encoding='latin-1')\n",
    "\n",
    "#datanew['Definition'] = datanew['Definition'].apply(lambda x: ' '.join([item for item in x.split() if item not in STOPWORDS]))\n",
    "\n",
    "only=datanew['Definition']\n",
    "only=pd.DataFrame(only)\n",
    "print(only)"
   ]
  },
  {
   "cell_type": "code",
   "execution_count": 310,
   "metadata": {},
   "outputs": [
    {
     "name": "stdout",
     "output_type": "stream",
     "text": [
      "[1. 0. 0. 1.]\n"
     ]
    }
   ],
   "source": [
    "#always do this!\n",
    "tfidf_wm = v.transform(only['Definition']).toarray() \n",
    "tfidf_wm=pd.DataFrame(tfidf_wm)\n",
    "\n",
    "predicty=model2.predict(tfidf_wm)\n",
    "print(predicty)\n",
    "\n"
   ]
  },
  {
   "cell_type": "code",
   "execution_count": null,
   "metadata": {},
   "outputs": [],
   "source": []
  }
 ],
 "metadata": {
  "kernelspec": {
   "display_name": "Python 3",
   "language": "python",
   "name": "python3"
  },
  "language_info": {
   "codemirror_mode": {
    "name": "ipython",
    "version": 3
   },
   "file_extension": ".py",
   "mimetype": "text/x-python",
   "name": "python",
   "nbconvert_exporter": "python",
   "pygments_lexer": "ipython3",
   "version": "3.7.4"
  }
 },
 "nbformat": 4,
 "nbformat_minor": 2
}
